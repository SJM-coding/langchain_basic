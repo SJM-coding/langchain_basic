{
 "cells": [
  {
   "cell_type": "code",
   "execution_count": 2,
   "id": "26d715ea",
   "metadata": {},
   "outputs": [
    {
     "name": "stdout",
     "output_type": "stream",
     "text": [
      "🍳 Hello AI 요리사\n",
      "\n",
      "🍽️ AI 요리사 추천 결과:\n",
      "\n",
      "추천 요리: 김치볶음밥\n",
      "\n",
      "재료: 계란, 밥, 김치\n",
      "\n",
      "조리법:\n",
      "1. 김치를 잘게 썰고, 계란을 풀어주세요.\n",
      "2. 팬에 기름을 두르고 썰어 놓은 김치를 볶아주세요.\n",
      "3. 김치가 볶아지면 풀어놓은 계란을 넣고 잘 섞어주세요.\n",
      "4. 이제 밥을 넣고 모든 재료가 잘 섞이도록 볶아주세요.\n",
      "5. 간을 맞추고 맛있는 김치볶음밥이 완성되었습니다!\n"
     ]
    }
   ],
   "source": [
    "print(\"🍳 Hello AI 요리사\")\n",
    "\n",
    "import os\n",
    "from dotenv import load_dotenv\n",
    "from langchain_core.prompts import PromptTemplate\n",
    "from langchain_openai import ChatOpenAI\n",
    "from langchain_core.output_parsers import StrOutputParser\n",
    "\n",
    "# ✅ 환경변수 로드\n",
    "load_dotenv()\n",
    "\n",
    "# ✅ Groq LLM 설정\n",
    "llm = ChatOpenAI(\n",
    "    base_url=\"https://api.groq.com/openai/v1\",\n",
    "    model=\"meta-llama/llama-4-scout-17b-16e-instruct\",\n",
    "    temperature=0.7\n",
    ")\n",
    "\n",
    "# ✅ PromptTemplate 정의\n",
    "prompt = PromptTemplate.from_template(\"\"\"\n",
    "당신은 요리 전문가 AI입니다.\n",
    "사용자가 입력한 재료를 가지고 만들 수 있는 요리 하나를 추천하고, 간단한 레시피를 작성해주세요.\n",
    "\n",
    "재료: {ingredients}\n",
    "\n",
    "출력 예시 형식:\n",
    "추천 요리: <요리 이름>\n",
    "재료: <사용된 재료>\n",
    "조리법:\n",
    "1. ...\n",
    "2. ...\n",
    "\"\"\")\n",
    "\n",
    "# ✅ 출력 파서 연결\n",
    "output_parser = StrOutputParser()\n",
    "\n",
    "# ✅ LCEL 체인 구성\n",
    "chain = prompt | llm | output_parser\n",
    "\n",
    "# ✅ 사용자 입력\n",
    "user_input = \"계란, 밥, 김치\"\n",
    "\n",
    "# ✅ 체인 실행\n",
    "try:\n",
    "    result = chain.invoke({\"ingredients\": user_input})\n",
    "    print(\"\\n🍽️ AI 요리사 추천 결과:\\n\")\n",
    "    print(result)\n",
    "except Exception as e:\n",
    "    print(f\"❌ 오류 발생: {e}\")\n"
   ]
  }
 ],
 "metadata": {
  "kernelspec": {
   "display_name": "langchain-basic--bIj14hM-py3.12",
   "language": "python",
   "name": "python3"
  },
  "language_info": {
   "codemirror_mode": {
    "name": "ipython",
    "version": 3
   },
   "file_extension": ".py",
   "mimetype": "text/x-python",
   "name": "python",
   "nbconvert_exporter": "python",
   "pygments_lexer": "ipython3",
   "version": "3.12.7"
  }
 },
 "nbformat": 4,
 "nbformat_minor": 5
}
