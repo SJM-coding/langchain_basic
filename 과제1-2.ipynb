{
 "cells": [
  {
   "cell_type": "code",
   "execution_count": 2,
   "id": "bc58c0d7",
   "metadata": {},
   "outputs": [
    {
     "name": "stdout",
     "output_type": "stream",
     "text": [
      "🎬 영화 추천 시스템 시작!\n",
      "\n",
      "[1단계] '액션' 장르 기반 영화 추천:\n",
      "국내에서 제작된 액션 영화 중 추천할 만한 작품은 '부산행'(2016)입니다. 이 영화는 좀비 바이러스가 확산되는 상황에서 가족과 기차에 탄 승객들이 살아남기 위해 싸우는 내용을 담고 있습니다. 특히, 배우 정재광, 마동석, 손석구 등 다양한 출연진이 등장하여 흥미로운 장면을 선사합니다. 또한, 긴박한 상황 속에서 인물들이 보여주는 액션과 감동적인 연기는 시청자들에게 큰 인상을 남길 것입니다.\n",
      "\n",
      "[2단계] 추천 영화 줄거리 요약:\n",
      "영화 '부산행'은 서울에서 부산으로 향하는 KTX 열차에서 시작됩니다.\n",
      "\n",
      "열차 안에서 갑자기 발생한 좀비 바이러스에 의해 탑승객들이 하나둘 감염되기 시작합니다.\n",
      "\n",
      "주인공들은 생존을 위해 열차에서 탈출하고, 좀비들과의 사투를 벌이며 부산행의 여정을 계속하게 됩니다.\n"
     ]
    }
   ],
   "source": [
    "print(\"🎬 영화 추천 시스템 시작!\")\n",
    "\n",
    "import os\n",
    "from dotenv import load_dotenv\n",
    "from langchain_core.prompts import ChatPromptTemplate\n",
    "from langchain_openai import ChatOpenAI\n",
    "from langchain_core.output_parsers import StrOutputParser\n",
    "\n",
    "# ✅ 환경 변수 로드\n",
    "load_dotenv()\n",
    "\n",
    "# ✅ Groq 모델 설정\n",
    "llm = ChatOpenAI(\n",
    "    base_url=\"https://api.groq.com/openai/v1\",\n",
    "    model=\"meta-llama/llama-4-scout-17b-16e-instruct\",\n",
    "    temperature=0.7\n",
    ")\n",
    "\n",
    "# ✅ 단계 1: 장르 기반 영화 추천 프롬프트\n",
    "prompt_recommend = ChatPromptTemplate.from_messages([\n",
    "    (\"system\", \"당신은 사용자가 좋아할 만한 영화를 추천해주는 AI입니다.\"),\n",
    "    (\"human\", \"{genre} 장르에서 추천할 만한 한국 영화를 한 편 알려주세요. 간단한 이유도 포함해주세요.\")\n",
    "])\n",
    "\n",
    "# ✅ 단계 2: 영화 줄거리 요약 프롬프트\n",
    "prompt_summary = ChatPromptTemplate.from_messages([\n",
    "    (\"system\", \"당신은 영화 줄거리 요약 전문가입니다.\"),\n",
    "    (\"human\", \"{movie} 영화의 줄거리를 3줄로 요약해 주세요. 문장마다 줄을 바꿔 주세요.\")\n",
    "])\n",
    "\n",
    "# ✅ 파서 설정\n",
    "parser = StrOutputParser()\n",
    "\n",
    "# ✅ 체인 1: 장르 → 영화 추천\n",
    "chain1 = prompt_recommend | llm | parser\n",
    "\n",
    "# ✅ 체인 2: 영화 → 줄거리 요약\n",
    "chain2 = (\n",
    "    {\"movie\": chain1}\n",
    "    | prompt_summary\n",
    "    | llm\n",
    "    | parser\n",
    ")\n",
    "\n",
    "# ✅ 입력\n",
    "genre_input = \"액션\"\n",
    "\n",
    "# ✅ 실행\n",
    "try:\n",
    "    print(f\"\\n[1단계] '{genre_input}' 장르 기반 영화 추천:\")\n",
    "    recommended_movie = chain1.invoke({\"genre\": genre_input})\n",
    "    print(recommended_movie)\n",
    "\n",
    "    print(\"\\n[2단계] 추천 영화 줄거리 요약:\")\n",
    "    result_summary = chain2.invoke({\"genre\": genre_input})  # genre는 chain1에 전달됨\n",
    "    print(result_summary)\n",
    "\n",
    "except Exception as e:\n",
    "    print(f\"❌ 오류 발생: {e}\")\n"
   ]
  },
  {
   "cell_type": "markdown",
   "id": "a6d95a47",
   "metadata": {},
   "source": []
  }
 ],
 "metadata": {
  "kernelspec": {
   "display_name": "langchain-basic--bIj14hM-py3.12",
   "language": "python",
   "name": "python3"
  },
  "language_info": {
   "codemirror_mode": {
    "name": "ipython",
    "version": 3
   },
   "file_extension": ".py",
   "mimetype": "text/x-python",
   "name": "python",
   "nbconvert_exporter": "python",
   "pygments_lexer": "ipython3",
   "version": "3.12.7"
  }
 },
 "nbformat": 4,
 "nbformat_minor": 5
}
